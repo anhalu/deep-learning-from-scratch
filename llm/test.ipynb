{
 "cells": [
  {
   "cell_type": "code",
   "execution_count": 1,
   "metadata": {},
   "outputs": [],
   "source": [
    "import torch \n",
    "from torch import nn\n"
   ]
  },
  {
   "cell_type": "code",
   "execution_count": 10,
   "metadata": {},
   "outputs": [],
   "source": [
    "# Rotary Embedding and apply_rotary_pos_emb function\n",
    "class RotaryEmbedding(nn.Module):\n",
    "    def __init__(self, dim, base=10000):\n",
    "        super(RotaryEmbedding, self).__init__()\n",
    "        inv_freq = 1.0 / (base ** (torch.arange(0, dim, 2).float() / dim))\n",
    "        self.register_buffer('inv_freq', inv_freq)\n",
    "\n",
    "    def forward(self, seq_len):\n",
    "        # Generate a range for sequence length and reshape for tr\n",
    "        t = torch.arange(seq_len, device=self.inv_freq.device).type_as(self.inv_freq).unsqueeze(1)\n",
    "        # Calculate the frequency embeddings using broadcasting instead of einsum\n",
    "        freqs = t * self.inv_freq.unsqueeze(0)  # Shape: [seq_len, dim//2]\n",
    "        emb = torch.cat((freqs, freqs), dim=-1)  # Duplicate to match input dimension\n",
    "        return emb[None, :, :]  # Shape: [1, seq_len, dim]\n",
    "\n",
    "def apply_rotary_pos_emb(q, k, sinusoidal_pos):\n",
    "    # Split the query and key tensors into even and odd dimensions\n",
    "    q_cos, q_sin = q[..., 0::2], q[..., 1::2]\n",
    "    k_cos, k_sin = k[..., 0::2], k[..., 1::2]\n",
    "\n",
    "    # Split the positional encodings into cosine and sine parts\n",
    "    cos, sin = sinusoidal_pos[..., 0::2], sinusoidal_pos[..., 1::2]\n",
    "\n",
    "    # Apply rotary embeddings without einsum, element-wise operations\n",
    "    q_rot = torch.cat([q_cos * cos - q_sin * sin, q_cos * sin + q_sin * cos], dim=-1)\n",
    "    k_rot = torch.cat([k_cos * cos - k_sin * sin, k_cos * sin + k_sin * cos], dim=-1)\n",
    "\n",
    "    return q_rot, k_rot"
   ]
  },
  {
   "cell_type": "code",
   "execution_count": 30,
   "metadata": {},
   "outputs": [
    {
     "name": "stdout",
     "output_type": "stream",
     "text": [
      "torch.Size([5, 3]) torch.Size([5, 6])\n",
      "torch.Size([1, 5, 6]) torch.Size([1, 5, 6])\n"
     ]
    }
   ],
   "source": [
    "a = torch.randn((5,3))\n",
    "b = torch.cat((a, a), dim=-1)\n",
    "print(a.shape, b.shape)\n",
    "c = b[None, :, :]\n",
    "d = b.unsqueeze(0)\n",
    "print(c.shape, d.shape)"
   ]
  },
  {
   "cell_type": "code",
   "execution_count": 2,
   "metadata": {},
   "outputs": [],
   "source": [
    "base = 10 \n",
    "d_model=15 \n",
    "device = 'cuda'\n",
    "theta = 1.0 / (base ** (torch.arange(0, d_model, 2).float() / d_model)).to(device)\n",
    "seq_id = torch.arange(0, 5).to(device)"
   ]
  },
  {
   "cell_type": "code",
   "execution_count": 10,
   "metadata": {},
   "outputs": [
    {
     "data": {
      "text/plain": [
       "(torch.Size([1, 5]), torch.Size([8, 1]))"
      ]
     },
     "execution_count": 10,
     "metadata": {},
     "output_type": "execute_result"
    }
   ],
   "source": [
    "seq_id.unsqueeze(0).shape, theta.unsqueeze(1).shape"
   ]
  },
  {
   "cell_type": "code",
   "execution_count": 15,
   "metadata": {},
   "outputs": [
    {
     "name": "stdout",
     "output_type": "stream",
     "text": [
      "torch.Size([8, 5])\n"
     ]
    }
   ],
   "source": [
    "b = seq_id.unsqueeze(0) * theta.unsqueeze(1)\n",
    "print(b.shape)"
   ]
  },
  {
   "cell_type": "code",
   "execution_count": 18,
   "metadata": {},
   "outputs": [
    {
     "name": "stdout",
     "output_type": "stream",
     "text": [
      "tensor([[2.],\n",
      "        [2.],\n",
      "        [2.],\n",
      "        [2.],\n",
      "        [2.],\n",
      "        [2.],\n",
      "        [2.],\n",
      "        [2.]])\n",
      "tensor([[1., 1., 1., 1., 1.]])\n",
      "torch.Size([8, 5])\n",
      "tensor([[2., 2., 2., 2., 2.],\n",
      "        [2., 2., 2., 2., 2.],\n",
      "        [2., 2., 2., 2., 2.],\n",
      "        [2., 2., 2., 2., 2.],\n",
      "        [2., 2., 2., 2., 2.],\n",
      "        [2., 2., 2., 2., 2.],\n",
      "        [2., 2., 2., 2., 2.],\n",
      "        [2., 2., 2., 2., 2.]])\n"
     ]
    }
   ],
   "source": [
    "import torch\n",
    "\n",
    "# Tạo hai tensor\n",
    "a = torch.ones(1, 5)  # Kích thước [1, 5]\n",
    "b = torch.ones(8, 1) * 2  # Kích thước [8, 1]\n",
    "print(b)\n",
    "print(a)\n",
    "# Phép nhân element-wise với broadcasting\n",
    "c = a * b\n",
    "\n",
    "print(c.shape)  # torch.Size([8, 5])\n",
    "print(c)"
   ]
  }
 ],
 "metadata": {
  "kernelspec": {
   "display_name": "llm",
   "language": "python",
   "name": "python3"
  },
  "language_info": {
   "codemirror_mode": {
    "name": "ipython",
    "version": 3
   },
   "file_extension": ".py",
   "mimetype": "text/x-python",
   "name": "python",
   "nbconvert_exporter": "python",
   "pygments_lexer": "ipython3",
   "version": "3.12.8"
  }
 },
 "nbformat": 4,
 "nbformat_minor": 2
}
