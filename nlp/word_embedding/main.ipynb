{
 "cells": [
  {
   "cell_type": "markdown",
   "metadata": {},
   "source": [
    "1. One hot vector \n",
    "for the i-th word in the vocabulary, the vector has 1 on the i-th dimension, and 0 on the rest\n"
   ]
  },
  {
   "cell_type": "code",
   "execution_count": 8,
   "metadata": {},
   "outputs": [
    {
     "name": "stdout",
     "output_type": "stream",
     "text": [
      "[1, 0, 0, 0, 0, 0]\n"
     ]
    }
   ],
   "source": [
    "def onehot_vector(word, word2index, vocab_size): \n",
    "    result = [0] * vocab_size \n",
    "    if word in word2index: \n",
    "        result[word2index[word]] = 1\n",
    "    else: \n",
    "        result[word2index['<unk>']] = 1 \n",
    "    return result\n",
    "    \n",
    "vocab = ['<unk>', 'I', 'love', 'nlp', 'and', 'you'] \n",
    "word2index = {word: i for i, word in enumerate(vocab)}\n",
    "print(onehot_vector('test', word2index, vocab_size = len(vocab)))"
   ]
  },
  {
   "cell_type": "markdown",
   "metadata": {},
   "source": [
    "in notion =)))"
   ]
  }
 ],
 "metadata": {
  "kernelspec": {
   "display_name": "llm",
   "language": "python",
   "name": "python3"
  },
  "language_info": {
   "codemirror_mode": {
    "name": "ipython",
    "version": 3
   },
   "file_extension": ".py",
   "mimetype": "text/x-python",
   "name": "python",
   "nbconvert_exporter": "python",
   "pygments_lexer": "ipython3",
   "version": "3.11.9"
  }
 },
 "nbformat": 4,
 "nbformat_minor": 2
}
